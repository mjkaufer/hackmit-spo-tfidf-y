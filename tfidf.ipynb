{
 "cells": [
  {
   "cell_type": "code",
   "execution_count": 1,
   "metadata": {},
   "outputs": [],
   "source": [
    "import numpy as np\n",
    "import string\n",
    "from typing import List\n",
    "\n",
    "# boring string formatting stuff ;)\n",
    "punctuation_set = set(string.punctuation)\n",
    "def strip_punctuation(s):\n",
    "    return ''.join(ch for ch in s if ch not in punctuation_set)"
   ]
  },
  {
   "cell_type": "code",
   "execution_count": 2,
   "metadata": {},
   "outputs": [],
   "source": [
    "# returns an array of vectors, with each vector representing a given document\n",
    "# also returns corresponding words per row\n",
    "def create_tfidf_for_documents(documents: List[str]):\n",
    "\n",
    "    # array of array of words in a given doc\n",
    "    # make sure we sanitize words by removing uppercase & punctuation\n",
    "    doc_word_lists = [strip_punctuation(doc.lower()).split(' ') for doc in documents]\n",
    "\n",
    "    # gets us unique words from within our docs\n",
    "    unique_words = [*{word for doc_word_list in doc_word_lists for word in doc_word_list}]\n",
    "    word_to_index = {word: index for index, word in enumerate(unique_words)}\n",
    "\n",
    "    # want a row for each word, col for each doc\n",
    "    num_words = len(unique_words)\n",
    "    num_docs = len(documents)\n",
    "\n",
    "    tf_mat = np.zeros((num_words, num_docs))\n",
    "    # idf is global across documents\n",
    "    idf_mat = np.zeros(num_words)\n",
    "\n",
    "    for doc_index, doc_word_list in enumerate(doc_word_lists):\n",
    "        seen_words = set()\n",
    "\n",
    "        # count word instances for tf\n",
    "        for word in doc_word_list:\n",
    "            word_index = word_to_index[word]\n",
    "            tf_mat[word_index][doc_index] += 1\n",
    "\n",
    "            # don't want to double count IDF in the same document\n",
    "            if word not in seen_words:\n",
    "                idf_mat[word_index] += 1\n",
    "                seen_words.add(word)\n",
    "\n",
    "        # normalize TF by word count\n",
    "        tf_mat[:, doc_index] /= len(doc_word_list)\n",
    "\n",
    "    # calculate log of idf once we've calculated\n",
    "    for word_index, idf in enumerate(idf_mat):\n",
    "        idf_mat[word_index] = np.log10(num_docs / idf)\n",
    "\n",
    "\n",
    "    # row-wise multiplication within idf_mat!\n",
    "    tfidf_mat = tf_mat * idf_mat[:, np.newaxis]\n",
    "\n",
    "    return (tfidf_mat, unique_words)\n",
    "\n"
   ]
  },
  {
   "cell_type": "code",
   "execution_count": 3,
   "metadata": {},
   "outputs": [
    {
     "name": "stdout",
     "output_type": "stream",
     "text": [
      "bark \t [0.01467427 0.         0.02201141]\n",
      "is \t [0. 0. 0.]\n",
      "puppy \t [0.         0.         0.05964016]\n",
      "can \t [0.         0.         0.05964016]\n",
      "purr \t [0.        0.0397601 0.       ]\n",
      "dog \t [0.0397601 0.        0.       ]\n",
      "named \t [0.01467427 0.01467427 0.        ]\n",
      "to \t [0.01467427 0.01467427 0.        ]\n",
      "my \t [0. 0. 0.]\n",
      "cute \t [0.         0.         0.05964016]\n",
      "likes \t [0.01467427 0.01467427 0.        ]\n",
      "cat \t [0.        0.0397601 0.       ]\n",
      "and \t [0. 0. 0.]\n",
      "puru \t [0.         0.07952021 0.        ]\n",
      "loudly \t [0.         0.         0.05964016]\n",
      "fast \t [0.0397601 0.        0.       ]\n",
      "fluffy \t [0.        0.0397601 0.       ]\n",
      "fido \t [0.07952021 0.         0.        ]\n",
      "runs \t [0.0397601 0.        0.       ]\n"
     ]
    }
   ],
   "source": [
    "docs = [\n",
    "    \"My dog is named Fido. Fido likes to bark and runs fast.\",\n",
    "    \"My cat is named Puru. Puru likes to purr and is fluffy.\",\n",
    "    \"My puppy is cute and can bark loudly\",\n",
    "]\n",
    "\n",
    "mat, mat_words = create_tfidf_for_documents(docs)\n",
    "\n",
    "for (index, word) in enumerate(mat_words):\n",
    "    print(word, \"\\t\", mat[index])"
   ]
  },
  {
   "cell_type": "code",
   "execution_count": 4,
   "metadata": {},
   "outputs": [
    {
     "name": "stdout",
     "output_type": "stream",
     "text": [
      "dog vs puppy is 0.00032300136995640666\n",
      "cat vs puppy is 0.0\n"
     ]
    }
   ],
   "source": [
    "print(\"dog vs puppy is {}\".format(mat[:,0].dot(mat[:,2])))\n",
    "print(\"cat vs puppy is {}\".format(mat[:,1].dot(mat[:,2])))"
   ]
  },
  {
   "cell_type": "code",
   "execution_count": 5,
   "metadata": {},
   "outputs": [
    {
     "name": "stdout",
     "output_type": "stream",
     "text": [
      "Successfully authenticated\n"
     ]
    }
   ],
   "source": [
    "from scrape import SpotifyScraper\n",
    "\n",
    "# connect to spotify API\n",
    "scraper = SpotifyScraper()\n",
    "scraper.authenticate()\n"
   ]
  },
  {
   "cell_type": "code",
   "execution_count": 12,
   "metadata": {},
   "outputs": [
    {
     "name": "stdout",
     "output_type": "stream",
     "text": [
      "{'5WWu3iYAXLgqghjU9696Nk': {'5gidPD39f4Byrnt3Vrhdpj', '2uERPFSsDSlaXojdVqK2kj', '4IA82QQCoPtGN9xDHflcZA', '6ZlRHL9KmkWpezz7DkLbf1', '2psTJZYW6M9xP54ffEsChA', '4cih4QDlMIZ882wNQUhIlS', '0txKAVGacfraQqJWpjALTp', '56sTbfLiRzNIzwpEYkV4mr', '2zqCw4g4w9ZLzwHtw1I7e9', '6EPwUdSSi8ExTZvoR7ITg3', '14C0Ix91OXbQtAiQNq4FYF', '3G9ZfSWFKqtkTA1BlUVF31', '6QpHEf0YSddrcKnV1U5wKM', '7xFYOlTj6m05q2CgyxLXST', '1syUUTdDrjijrA3aqLxrBg', '55wBlx4cbmvYGqfVbKMBW4', '3Cnp5gloHCyXZsMimaHKTt', '12Fpw64lbhzYT5pRSleG4V', '2Z30tAv32BImOPtlyFzFy0', '6Xry4UUgAfbZTAynZl2Ou3', '3hSoQunmNwmgjt6RIKuUsJ'}, '1A3nVEWRJ8yvlPzawHI1pQ': {'5c2fEICoqVYuTjAGEieB2F', '2WaaqcSdsLliuWTnmY4rLC', '15E2P2ToSLNnZvcOEQra6a', '4dRqYKhLVujxiBXcq50YzG', '528bxUV84T4T8HHBFSpcaV', '1ze0Z3ZnIDITxj13NRok4z', '5jd6XPyXSY4jQVG3SlXP1b', '7lQgoAWAFAo0XW7dW2TL1y', '3ujuDsiyBLAXAB6dtNwpGu', '1MkiAWVcbxZ7NzMuAuWqJS', '2G5ZpNvgSOOcBCpLcOfvJy', '3VORkvig6GJheAu4x3I3oC', '39exKIvycQDgs4T6uXdyu0', '2YegRTu9IjiUg4VWfnXyM3', '4Ww4jdVXTyvSnryNTtReRJ', '6UryEVkqPDLliZOG4UmFi9', '53KFMdxzi8IJDewiql1Qo3', '2FjoCQaBoiEKs3FCvD0HkR'}, '7uxo8pIrikPy6WHdiOBaci': {'1YYHEH9j9repa1oWtss9AK', '5m1YJrHIBvz0t5Ev9LSOUM', '266Kb8ZqFOC5QjOKtfT5H5', '6iJzipAKQhcN1qvQlZn4Ho', '0RMmiytGuQnEaKjT538Zfo', '7G6KeY8kwQGJO9erCOdSce', '0ZxssOZRnsCzJXVFaYmLVp', '0LcxG3G6EPcf9GfXqqvMJ6', '1Ssdmauc089AT7ZUgLJjqx', '3nHTON3YhU7WicSBjCRWLl', '6mEjPCdrJ1LMnIrGYulcpp', '7HaBMA5i6UBjTFmGzFhor4'}, '1GXMNFfoHF4sN7lG8gZq1j': {'607EA1HsuzrqqaPuxyNqpD', '5bbvdCQ6kc3OeC3FzUl9Dx', '38BtUFtq4oxdB0Sku1iInh', '1AmsqMwCRHj7BCtsZr7ZeY', '5GwSD4gZHdZBYa23zwqBia', '2qkeodJXQPyrnPLXvUb9MJ', '10f0hrbCBiQk9STrFG3EU7', '51DZ0wUocQ8sQfjnibXVcD', '3ri4y4r1BFc9YiPNgFXeGW', '6AY1M1akbsVaQN3ATVyzH7', '7G2RDVxS0xvofNNNjA5yuN', '1ZcI6ZPRjKhuF2fhxTCRGD'}, '57igjQ0GM3GODkHg7TczO4': {'1XSaNq80jBNAAqVyOIkAjZ', '5qb2foAWAlBpqQFwUxuesO', '6QsJxuNECmXheYruBFcdsR', '2BrsJ9ER48iQnfQeha2bbj', '13CMEa8upaP4G91md5P9Oc', '1C5k8XBtzDYs9bpGYlOIJo', '3PN5kxVd6SmstOmdapZHwn', '3rKE69XUlNdRK2SINUGdXO', '1MNNsCTqGX8nliENHRacBv', '5cnjwmSMQbjaS2GxWMh4Wf', '0xbFfbBN8vhEQgrJlhORWP', '0mmOQdsXCX5zp92uhwE7Ze', '56TNGzjfZd2rIxlcgypjJg', '1Cz7QWaBJJcabdMqZxXwj9'}, '0H8cHlbp6eieUUOLmv4FzJ': {'0Dx352kZFiXR1NlcEMDJZx', '76BIj06DoRIuJLtchonDcd', '40cAeDaZAnPY9bUHf4jYXW', '5NIdc4obivq0EavNkcPU6Y', '27Ki3dKTdTMJgYceTLSmMn', '1QdVwO5xqAI88pNn2qfNjU', '3NiTxcRO3OqqLKRvvPmEey', '4wtxSmTTeg6CiuhwIVKv0b', '0vxGpG3QTbioUTAToBAuBl', '68PE0YDpmT84jQ0bXw1OPc'}, '2zcMgU6PAlLUDQMqZcxxUU': {'3iOMThZS40mazWuny8zvXX', '6K5waU14PdvY4fatne8kyq', '7mbsVXNFTZ8zOXcdbLvdyw', '64PtbjIQSwVGqwqOkjcQ0s', '3NXjRgj22vkWCp5yzjU4af', '4224tsPgiIlzm5p8n83Bon', '4cYZRebfwTsVNERxTm29Rb', '6FHnXgJSYPaCkCcvDQDfPP', '1HOjPj3YRR2LOILW5eAmVG', '4tFOkEWNXiheSDnURpmGTp'}, '7n8NJkGKAl2np1bXiRn0CY': {'3AydAydLzyyZutA0375XIz', '3PYTEgSf4opLzuUiPecUqS', '6iMBQot4ZWbc1judI3x1eG', '4DwNBBeCrztmAxBuM3UrVX', '1vTBBxcBB2Nb3ezQFRrGFO', '0ful4PHfTIxzXiZSZsXQ0H', '1eNrlXlW7Cj1QB1YUcZmpb', '0BZY839qKXibapu4S0GYE2', '343bBmd4LiBX5OlHXDICa1', '30CU4qvNUUtd8GN4zDV5Oz', '4PamGgZ3hSGSDrpU4INnWi'}, '5fedTyx7AnXeyxLL0giq6x': {'29wrvWmZfhUzJqcBP4U0VI', '2Pq8yUkGmV5MyjzDXTsYav', '1CZw0Lymzi2Lvy1XZ6rXh5', '47jTD19lnQhXk4r0RcdbSk', '1SqxV8oT8lKD583CW9JiOL', '4PnX4VMGqXclzeBvZcyABz', '3BsNxZnM79oJPjhCdUDab9', '23A1225Ju3BOBykt9n4xkc', '2cVyUCUGeH4nbHuyl35i53', '5dUFfk2cwD8GiJPS03mYN0', '2DrGEaqoruCSn0FffWCf5O'}, '72TjwUTbv8m606I5SEASqZ': {'4L2XbB6fSJINymzF5Q4x5F', '7gtgB31vhnfSRpRCvAwGpa'}, '7n2MqOxGeX7chH9Ld11cyA': {'5HPEdBhvOFVJDEAPW1dKfa', '4l7aryEsduuO7tQU8ZY46e'}, '20nhplvExI2cZHpQUtyJ65': {'1upyYYOEySoyP0LflQFeo0', '0sgQ0pKqqvyjWoNOJKexVg', '6hmr8jvXXnqEyTc8qIJeEm', '3kZ7EFNGK9rv42rbueVCET', '3B6p3UF9FIt12KCjPtaDdP'}, '7fnVvA24ix6N74lhjnV05n': {'4jpiU50GLkAqZgwgQbSezT', '0fGE7W8RKVNRbGaK3KbGUR', '0Vt9BiI8aoFYExwkz4fiDq'}, '558MIeSfhY8XKs79CO67ZY': {'3n3CgdgMyCh8TiasOoWp41'}, '2cF9AORYiohyV0ukBJ5cYY': {'1dylsXmQOadxnAvdHzuEhD'}, '0JS3ey7Ayv5iL2NBeBDyK0': {'362rO6fBWBJ1WUJgEjTLcQ', '5x0xJ9jWOeONI0CDj3AJC4', '4Q6A5ullSuTI5PQlv2xYlz', '4zp00L1O0Tsis5LFlPNLIT'}, '7yx6H1nwuuYnjDw39i9CXz': {'4ICeWHDsTQ7BKc3SSO5uAl', '77qBhBEyc0XS7KmVoj6VTb', '7H7MZd31j4NQYl29lwzNTY'}, '3WqHo80wc8y9GqI2fQjajs': {'7rGR47TPEVjkBAuoABDvfB', '0weFzuzqZaaU7e3fANk15s'}, '4vKvGhyD1EHuCDpCidpn7t': {'0C3NancGVi1t6IPtM7Nh2r', '5cgZLBOavz2sUEhtjgrghR', '3CT6F52UxAjyPaN79Stwjo', '0xuqmDKXwX5j9mKTu0KU5E'}, '3l4z8EMLjNFKSGwmeoIGAg': {'69lbTYNxwof4CCUEpIONAt'}}\n"
     ]
    }
   ],
   "source": [
    "# this is vampire weekend, but you can find other album IDs by\n",
    "# just going to spotify, copying the share link, and extracting the deets from there!\n",
    "artistId = '5BvJzeQpmsdsFp4HGUYUEx'\n",
    "discography, trackToName, albumToName = scraper.getArtistDiscography(artistId=artistId)\n",
    "print(discography)\n"
   ]
  },
  {
   "cell_type": "code",
   "execution_count": 13,
   "metadata": {},
   "outputs": [
    {
     "name": "stdout",
     "output_type": "stream",
     "text": [
      "{\n",
      "    \"Father of the Bride\": [\n",
      "        \"Stranger\",\n",
      "        \"Rich Man\",\n",
      "        \"Hold You Now (feat. Danielle Haim)\",\n",
      "        \"This Life\",\n",
      "        \"Bambina\",\n",
      "        \"Spring Snow\",\n",
      "        \"How Long?\",\n",
      "        \"Jerusalem, New York, Berlin\",\n",
      "        \"Flower Moon (feat. Steve Lacy)\",\n",
      "        \"We Belong Together (feat. Danielle Haim)\",\n",
      "        \"My Mistake\",\n",
      "        \"Big Blue\",\n",
      "        \"Harmony Hall\",\n",
      "        \"Sympathy\",\n",
      "        \"Married in a Gold Rush (feat. Danielle Haim)\",\n",
      "        \"2021\",\n",
      "        \"Sunflower (feat. Steve Lacy)\",\n",
      "        \"Unbearably White\"\n",
      "    ],\n",
      "    \"Modern Vampires of the City\": [\n",
      "        \"Everlasting Arms\",\n",
      "        \"Unbelievers\",\n",
      "        \"Hudson\",\n",
      "        \"Worship You\",\n",
      "        \"Hannah Hunt\",\n",
      "        \"Obvious Bicycle\",\n",
      "        \"Don't Lie\",\n",
      "        \"Ya Hey\",\n",
      "        \"Young Lion\",\n",
      "        \"Step\",\n",
      "        \"Ya Hey - 'Paranoid Styles' Mix\",\n",
      "        \"Unbelievers - 'Seeburg Drum Machine' Mix\",\n",
      "        \"Finger Back\",\n",
      "        \"Diane Young\"\n",
      "    ],\n",
      "    \"Contra\": [\n",
      "        \"Diplomat's Son\",\n",
      "        \"White Sky\",\n",
      "        \"Taxi Cab\",\n",
      "        \"Run\",\n",
      "        \"Giving Up the Gun\",\n",
      "        \"Horchata\",\n",
      "        \"Holiday\",\n",
      "        \"California English\",\n",
      "        \"I Think Ur A Contra\",\n",
      "        \"Cousins\"\n",
      "    ],\n",
      "    \"Vampire Weekend\": [\n",
      "        \"M79\",\n",
      "        \"Cape Cod Kwassa Kwassa\",\n",
      "        \"Oxford Comma\",\n",
      "        \"Bryn\",\n",
      "        \"One (Blake's Got A New Face)\",\n",
      "        \"Walcott\",\n",
      "        \"The Kids Don't Stand a Chance\",\n",
      "        \"Mansard Roof\",\n",
      "        \"I Stand Corrected\",\n",
      "        \"Campus\",\n",
      "        \"A-Punk\"\n",
      "    ],\n",
      "    \"40:42\": [\n",
      "        \"2021 (in the space between two pieces of wood)\",\n",
      "        \"2021 (January 5th, to be exact)\"\n",
      "    ],\n",
      "    \"Spotify Singles\": [\n",
      "        \"This Life - Recorded at Electric Lady Studios NYC\",\n",
      "        \"I'm Goin' Down - Recorded at Electric Lady Studios NYC\"\n",
      "    ],\n",
      "    \"Spotify Sessions\": [\n",
      "        \"Diane Young - Live from Bonnaroo 2014\",\n",
      "        \"White Sky - Live from Bonnaroo 2014\",\n",
      "        \"California English - Live from Bonnaroo 2014\",\n",
      "        \"Holiday - Live from Bonnaroo 2014\",\n",
      "        \"Ya Hey - Live from Bonnaroo 2014\"\n",
      "    ],\n",
      "    \"Unbelievers\": [\n",
      "        \"Step\",\n",
      "        \"Unbelievers - 'Seeburg Drum Machine' Mix\",\n",
      "        \"Unbelievers\"\n",
      "    ],\n",
      "    \"Diane Young\": [\n",
      "        \"Diane Young\"\n",
      "    ],\n",
      "    \"White Sky\": [\n",
      "        \"White Sky\",\n",
      "        \"White Sky - Warp Dub\",\n",
      "        \"White Sky - Vamp Dub\",\n",
      "        \"White Sky - Basement Jaxx Club Mix\"\n",
      "    ],\n",
      "    \"Giving Up the Gun\": [\n",
      "        \"Giving Up the Gun - Dub\",\n",
      "        \"Giving Up the Gun\",\n",
      "        \"Giving Up the Gun - Extended Mix\"\n",
      "    ],\n",
      "    \"Holiday\": [\n",
      "        \"Ottoman\",\n",
      "        \"Holiday\"\n",
      "    ],\n",
      "    \"Jonathan Low\": [\n",
      "        \"Jonathan Low\"\n",
      "    ]\n",
      "}\n"
     ]
    }
   ],
   "source": [
    "import json\n",
    "readable_discography = {albumToName[albumId]:[trackToName[track] for track in tracks] for (albumId, tracks) in discography.items()}\n",
    "print(json.dumps(readable_discography, indent=4))\n"
   ]
  },
  {
   "cell_type": "code",
   "execution_count": 14,
   "metadata": {},
   "outputs": [
    {
     "name": "stdout",
     "output_type": "stream",
     "text": [
      ".+.+............................................................................................................................................................................................................................................................................................................................+.....................................................................................................................................................+..................................................................+.................................................................................................................................+......................................................................+..............................................................................................................+......................................+..+.......+..+.......+.........+...................................+..........................{'37i9dQZF1DWTc5QDlvD7t0': {'tracks': ['Sunflower (feat. Steve Lacy)', 'Harmony Hall'], 'total': 50}, '1y3RFALCVBP8FCB75xvhI1': {'tracks': ['A-Punk', 'Mansard Roof', 'Oxford Comma', 'Cape Cod Kwassa Kwassa', \"The Kids Don't Stand a Chance\"], 'total': 72}, '26mzOcuIDNCzZmz8n5Ilcn': {'tracks': ['A-Punk', 'Diane Young'], 'total': 42}, '67w4QMaVyKFpK8A3DsOMJi': {'tracks': ['Walcott', 'Harmony Hall'], 'total': 100}, '6UYwbOBK2frFhMxwgK23Io': {'tracks': [\"The Kids Don't Stand a Chance\", 'A-Punk', 'Campus', 'This Life'], 'total': 41}, '0dZKVa6iHPaFtbiImO51X8': {'tracks': ['Campus', 'A-Punk'], 'total': 44}, '2olF2GMHoix2gGqnV0ubUK': {'tracks': ['Walcott', \"The Kids Don't Stand a Chance\", 'Oxford Comma'], 'total': 100}, '711LguFrDBIEksNrJhBsNW': {'tracks': ['Cape Cod Kwassa Kwassa', 'Oxford Comma'], 'total': 100}, '37i9dQZF1DX05We5FN3NiD': {'tracks': ['Sunflower (feat. Steve Lacy)', 'Unbearably White', 'This Life', 'Harmony Hall'], 'total': 100}, '3LQD1Wc829UiLVwRb5wM91': {'tracks': ['Harmony Hall', 'This Life'], 'total': 83}, '37i9dQZF1DWW2mn5wEfG6q': {'tracks': ['Hannah Hunt', 'Step', 'Diane Young', 'Unbelievers'], 'total': 100}, '5rV1HA2RwkEgqXvU994OVx': {'tracks': ['A-Punk', 'Cousins'], 'total': 100}, '3edhiLmxT6uvN1g3bAbthG': {'tracks': ['Oxford Comma', 'A-Punk'], 'total': 48}, '37i9dQZF1EQqkOPvHGajmW': {'tracks': ['This Life', 'Cape Cod Kwassa Kwassa', 'Sunflower (feat. Steve Lacy)', '2021'], 'total': 50}, '37i9dQZF1DWUoqEG4WY6ce': {'tracks': ['This Life', 'Harmony Hall'], 'total': 89}}\n"
     ]
    }
   ],
   "source": [
    "runningPlaylistResults = {}\n",
    "\n",
    "# set of all of our tracks!\n",
    "# used to figure out if a playlist has relevant songs\n",
    "tracks = {song for songs in discography.values() for song in songs}\n",
    "try:\n",
    "    for i in range(4):\n",
    "        for genre in [\"indie\", \"indie rock\", \"indie pop\", \"2000s indie\", \"indie punk\"]:\n",
    "            # this will query for playlists with names similar to the above phrases\n",
    "            # ensures that each playlist has at least two tracks from our list\n",
    "            # and adds the results to runningPlaylistResults\n",
    "            runningPlaylistResults = scraper.playlistQuery(genre, tracks, runningPlaylistResults)\n",
    "except:\n",
    "    print(\"Uh oh, oopsie while scraping, probably got rate limited!\")\n"
   ]
  },
  {
   "cell_type": "code",
   "execution_count": 18,
   "metadata": {},
   "outputs": [
    {
     "name": "stdout",
     "output_type": "stream",
     "text": [
      "[\n",
      "    [\n",
      "        \"Sunflower (feat. Steve Lacy)\",\n",
      "        \"Harmony Hall\"\n",
      "    ],\n",
      "    [\n",
      "        \"A-Punk\",\n",
      "        \"Mansard Roof\",\n",
      "        \"Oxford Comma\",\n",
      "        \"Cape Cod Kwassa Kwassa\",\n",
      "        \"The Kids Don't Stand a Chance\"\n",
      "    ],\n",
      "    [\n",
      "        \"A-Punk\",\n",
      "        \"Diane Young\"\n",
      "    ],\n",
      "    [\n",
      "        \"Walcott\",\n",
      "        \"Harmony Hall\"\n",
      "    ],\n",
      "    [\n",
      "        \"The Kids Don't Stand a Chance\",\n",
      "        \"A-Punk\",\n",
      "        \"Campus\",\n",
      "        \"This Life\"\n",
      "    ],\n",
      "    [\n",
      "        \"Campus\",\n",
      "        \"A-Punk\"\n",
      "    ],\n",
      "    [\n",
      "        \"Walcott\",\n",
      "        \"The Kids Don't Stand a Chance\",\n",
      "        \"Oxford Comma\"\n",
      "    ],\n",
      "    [\n",
      "        \"Cape Cod Kwassa Kwassa\",\n",
      "        \"Oxford Comma\"\n",
      "    ],\n",
      "    [\n",
      "        \"Sunflower (feat. Steve Lacy)\",\n",
      "        \"Unbearably White\",\n",
      "        \"This Life\",\n",
      "        \"Harmony Hall\"\n",
      "    ],\n",
      "    [\n",
      "        \"Harmony Hall\",\n",
      "        \"This Life\"\n",
      "    ],\n",
      "    [\n",
      "        \"Hannah Hunt\",\n",
      "        \"Step\",\n",
      "        \"Diane Young\",\n",
      "        \"Unbelievers\"\n",
      "    ],\n",
      "    [\n",
      "        \"A-Punk\",\n",
      "        \"Cousins\"\n",
      "    ],\n",
      "    [\n",
      "        \"Oxford Comma\",\n",
      "        \"A-Punk\"\n",
      "    ],\n",
      "    [\n",
      "        \"This Life\",\n",
      "        \"Cape Cod Kwassa Kwassa\",\n",
      "        \"Sunflower (feat. Steve Lacy)\",\n",
      "        \"2021\"\n",
      "    ],\n",
      "    [\n",
      "        \"This Life\",\n",
      "        \"Harmony Hall\"\n",
      "    ]\n",
      "]\n"
     ]
    }
   ],
   "source": [
    "# print({k:{**v, 'tracks': [trackToName[t] for t in v['tracks']]} for k,v in runningPlaylistResults.items()})\n",
    "print(json.dumps([[trackToName[t] for t in v['tracks']] for k,v in runningPlaylistResults.items()], indent=4))"
   ]
  },
  {
   "cell_type": "code",
   "execution_count": null,
   "metadata": {},
   "outputs": [],
   "source": []
  }
 ],
 "metadata": {
  "kernelspec": {
   "display_name": "Python 3",
   "language": "python",
   "name": "python3"
  },
  "language_info": {
   "codemirror_mode": {
    "name": "ipython",
    "version": 3
   },
   "file_extension": ".py",
   "mimetype": "text/x-python",
   "name": "python",
   "nbconvert_exporter": "python",
   "pygments_lexer": "ipython3",
   "version": "3.7.7"
  }
 },
 "nbformat": 4,
 "nbformat_minor": 4
}
